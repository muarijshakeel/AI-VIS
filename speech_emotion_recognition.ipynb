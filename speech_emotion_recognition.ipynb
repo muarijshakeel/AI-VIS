{
 "cells": [
  {
   "cell_type": "markdown",
   "metadata": {},
   "source": [
    "# Importing Libraries"
   ]
  },
  {
   "cell_type": "code",
   "execution_count": 1,
   "metadata": {},
   "outputs": [],
   "source": [
    "import librosa\n",
    "import soundfile\n",
    "import os, glob, pickle\n",
    "import numpy as np\n",
    "from sklearn.model_selection import train_test_split\n",
    "from sklearn.metrics import accuracy_score, classification_report, confusion_matrix, f1_score\n",
    "import pickle\n",
    "from tensorflow.keras import layers, Sequential\n",
    "from tensorflow.keras.layers import Conv1D, Activation, Dropout, Dense, Flatten, MaxPooling1D\n",
    "from sklearn.preprocessing import LabelEncoder, OneHotEncoder\n",
    "from tensorflow.keras import regularizers\n",
    "from matplotlib import pyplot as plt\n",
    "import seaborn as sn\n",
    "import pandas as pd\n",
    "import sklearn.metrics as metrics\n",
    "import tensorflow as tf"
   ]
  },
  {
   "cell_type": "markdown",
   "metadata": {},
   "source": [
    "# Feature Extraction for Speech Emotion Recognition|"
   ]
  },
  {
   "cell_type": "code",
   "execution_count": 2,
   "metadata": {},
   "outputs": [],
   "source": [
    "# Emotions in the RAVDESS dataset\n",
    "emotions = {\n",
    "    '01':'neutral',\n",
    "    '02':'calm',\n",
    "    '03':'happy',\n",
    "    '04':'sad',\n",
    "    '05':'angry',\n",
    "    '06':'fearful',\n",
    "    '07':'disgust',\n",
    "    '08':'surprised'\n",
    "}\n",
    "\n",
    "def extract_feature(data, sr, mfcc, chroma, mel):\n",
    "    \"\"\"\n",
    "    Extract features from audio files into numpy array\n",
    "    \n",
    "    Parameters\n",
    "    ----------\n",
    "    data : np.ndarray, audio time series\n",
    "    sr : number > 0, sampling rate\n",
    "    mfcc : boolean, Mel Frequency Cepstral Coefficient\n",
    "    chroma : boolean, pertains to the 12 different pitch classes\n",
    "    mel : boolean, Mel Spectrogram Frequency\n",
    "    \n",
    "    \"\"\"\n",
    "    if chroma:\n",
    "        stft = np.abs(librosa.stft(data))\n",
    "    result = np.array([])\n",
    "    if mfcc:\n",
    "        mfccs = np.mean(librosa.feature.mfcc(y=data, sr=sr, n_mfcc=40).T, axis=0)\n",
    "        result = np.hstack((result, mfccs))\n",
    "    if chroma:\n",
    "        chroma = np.mean(librosa.feature.chroma_stft(S=stft, sr=sr).T, axis=0)\n",
    "        result = np.hstack((result, chroma))\n",
    "    if mel:\n",
    "        mel_spectrogram = librosa.feature.melspectrogram(y=data, sr=sr)\n",
    "        mel = np.mean(mel_spectrogram.T, axis=0)\n",
    "        result = np.hstack((result, mel))\n",
    "        \n",
    "    return result\n"
   ]
  },
  {
   "cell_type": "markdown",
   "metadata": {},
   "source": [
    "# Adding Noise to Audio for Data Augmentation"
   ]
  },
  {
   "cell_type": "code",
   "execution_count": 3,
   "metadata": {},
   "outputs": [],
   "source": [
    "def noise(data, noise_factor):\n",
    "    \"\"\"\n",
    "    Add random white noise to the audio\n",
    "    \n",
    "    Parameters\n",
    "    ----------\n",
    "    data : np.ndarray, audio time series\n",
    "    noise_factor : float, the measure of noise to be added\n",
    "    \n",
    "    \"\"\"\n",
    "    noise = np.random.randn(len(data))\n",
    "    augmented_data = data + noise_factor * noise\n",
    "    augmented_data = augmented_data.astype(type(data[0]))\n",
    "    return augmented_data\n"
   ]
  },
  {
   "cell_type": "markdown",
   "metadata": {},
   "source": [
    "# Shifting Audio Spectrogram for Data Augmentation"
   ]
  },
  {
   "cell_type": "code",
   "execution_count": 4,
   "metadata": {},
   "outputs": [],
   "source": [
    "def shift(data, sampling_rate, shift_max, shift_direction):\n",
    "    \"\"\"\n",
    "    Shift the spectrogram in a direction\n",
    "    \n",
    "    Parameters\n",
    "    ----------\n",
    "    data : np.ndarray, audio time series\n",
    "    sampling_rate : number > 0, sampling rate\n",
    "    shift_max : float, maximum shift rate\n",
    "    shift_direction : string, right/both\n",
    "    \n",
    "    \"\"\"\n",
    "    shift = np.random.randint(sampling_rate * shift_max)\n",
    "    if shift_direction == 'right':\n",
    "        shift = -shift\n",
    "    elif shift_direction == 'both':\n",
    "        direction = np.random.randint(0, 2)\n",
    "        if direction == 1:\n",
    "            shift = -shift\n",
    "    augmented_data = np.roll(data, shift)\n",
    "    if shift > 0:\n",
    "        augmented_data[:shift] = 0\n",
    "    else:\n",
    "        augmented_data[shift:] = 0\n",
    "    return augmented_data"
   ]
  },
  {
   "cell_type": "markdown",
   "metadata": {},
   "source": [
    "# Loading and Augmenting Speech Data for Emotion Recognition"
   ]
  },
  {
   "cell_type": "code",
   "execution_count": 5,
   "metadata": {},
   "outputs": [],
   "source": [
    "def load_data(data_directory, save=False):\n",
    "    \"\"\"\n",
    "    Load dataset\n",
    "    \n",
    "    Parameters\n",
    "    ----------\n",
    "    data_directory : string, path to the dataset\n",
    "    save : boolean, save the data to disk as .npy\n",
    "    \n",
    "    \"\"\"\n",
    "    x, y = [], []\n",
    "    for file in glob.glob(data_directory + \"/Actor_*/*.wav\"):\n",
    "        data, sr = librosa.load(file)\n",
    "        feature = extract_feature(data, sr, mfcc=True, chroma=True, mel=True)\n",
    "        x.append(feature)\n",
    "        file_name = os.path.basename(file)\n",
    "        emotion = emotions[file_name.split(\"-\")[2]]\n",
    "        y.append(emotion)\n",
    "        n_data = noise(data, 0.001)\n",
    "        n_feature = extract_feature(n_data, sr, mfcc=True, chroma=True, mel=True)\n",
    "        x.append(n_feature)\n",
    "        y.append(emotion)\n",
    "        s_data = shift(data, sr, 0.25, 'right')\n",
    "        s_feature = extract_feature(s_data, sr, mfcc=True, chroma=True, mel=True)\n",
    "        x.append(s_feature)\n",
    "        y.append(emotion)\n",
    "    if save:\n",
    "        np.save('X', np.array(x))\n",
    "        np.save('y', y)\n",
    "    return np.array(x), y\n"
   ]
  },
  {
   "cell_type": "markdown",
   "metadata": {},
   "source": [
    "# Loading, Splitting, and Preprocessing the Speech Emotion Dataset"
   ]
  },
  {
   "cell_type": "code",
   "execution_count": 7,
   "metadata": {},
   "outputs": [
    {
     "name": "stdout",
     "output_type": "stream",
     "text": [
      "{'angry': 0, 'calm': 1, 'disgust': 2, 'fearful': 3, 'happy': 4, 'neutral': 5, 'sad': 6, 'surprised': 7}\n",
      "Features extracted: 180\n"
     ]
    }
   ],
   "source": [
    "# Define the dataset path\n",
    "data_directory = r\"C:\\Users\\muham\\Downloads\\Muarij\\SER\\RAVDESS Dataset\\archive\"\n",
    "\n",
    "# Load the data\n",
    "X, y = load_data(data_directory, save=True)\n",
    "\n",
    "# Split the data into training and testing sets\n",
    "x_train, x_test, y_train, y_test = train_test_split(X, y, test_size=0.25, random_state=9)\n",
    "\n",
    "# Encode labels\n",
    "labelencoder = LabelEncoder()\n",
    "labelencoder.fit(y_train)\n",
    "le_name_mapping = dict(zip(labelencoder.classes_, labelencoder.transform(labelencoder.classes_)))\n",
    "print(le_name_mapping)\n",
    "\n",
    "y_train = labelencoder.transform(y_train)\n",
    "y_test = labelencoder.transform(y_test)\n",
    "\n",
    "# Get the number of features extracted\n",
    "print(f'Features extracted: {x_train.shape[1]}')"
   ]
  },
  {
   "cell_type": "markdown",
   "metadata": {},
   "source": [
    "# Defining a Convolutional Neural Network (CNN) Model for Speech Emotion Recognition"
   ]
  },
  {
   "cell_type": "code",
   "execution_count": 8,
   "metadata": {},
   "outputs": [],
   "source": [
    "# Define the model\n",
    "model = Sequential()\n",
    "model.add(Conv1D(256, 5, padding='same', input_shape=(x_train.shape[1], 1)))\n",
    "model.add(Activation('relu'))\n",
    "model.add(Conv1D(128, 5, padding='same', kernel_regularizer=regularizers.l1_l2(l1=1e-5, l2=1e-4)))\n",
    "model.add(Activation('relu'))\n",
    "model.add(Dropout(0.1))\n",
    "model.add(MaxPooling1D(pool_size=(8)))\n",
    "model.add(Conv1D(128, 5, padding='same', kernel_regularizer=regularizers.l1_l2(l1=1e-5, l2=1e-4)))\n",
    "model.add(Activation('relu'))\n",
    "model.add(Conv1D(128, 5, padding='same', kernel_regularizer=regularizers.l1_l2(l1=1e-5, l2=1e-4)))\n",
    "model.add(Activation('relu'))\n",
    "model.add(Dropout(0.5))\n",
    "model.add(Flatten())\n",
    "model.add(Dense(units=8,\n",
    "                kernel_regularizer=regularizers.l1_l2(l1=1e-5, l2=1e-4),\n",
    "                bias_regularizer=regularizers.l2(1e-4),\n",
    "                activity_regularizer=regularizers.l2(1e-5)))\n",
    "model.add(Activation('softmax'))"
   ]
  },
  {
   "cell_type": "markdown",
   "metadata": {},
   "source": [
    "# Compiling the Model for Speech Emotion Recognition"
   ]
  },
  {
   "cell_type": "code",
   "execution_count": 9,
   "metadata": {},
   "outputs": [],
   "source": [
    "# Compile the model\n",
    "opt = tf.keras.optimizers.Adam(learning_rate=1e-3, decay=1e-6)\n",
    "model.compile(loss='sparse_categorical_crossentropy', optimizer=opt, metrics=['accuracy'])"
   ]
  },
  {
   "cell_type": "markdown",
   "metadata": {},
   "source": [
    "# Preparing Data for Training"
   ]
  },
  {
   "cell_type": "code",
   "execution_count": 10,
   "metadata": {},
   "outputs": [],
   "source": [
    "# Prepare data for training\n",
    "XProcessed = np.expand_dims(x_train, axis=2)\n",
    "XTestProcessed = np.expand_dims(x_test, axis=2)"
   ]
  },
  {
   "cell_type": "markdown",
   "metadata": {},
   "source": [
    "# Training the Model"
   ]
  },
  {
   "cell_type": "code",
   "execution_count": 11,
   "metadata": {},
   "outputs": [
    {
     "name": "stdout",
     "output_type": "stream",
     "text": [
      "Epoch 1/100\n",
      "51/51 [==============================] - 45s 45ms/step - loss: 2.2868 - accuracy: 0.2265 - val_loss: 1.9729 - val_accuracy: 0.2815\n",
      "Epoch 2/100\n",
      "51/51 [==============================] - 1s 26ms/step - loss: 1.9224 - accuracy: 0.3003 - val_loss: 1.7895 - val_accuracy: 0.3843\n",
      "Epoch 3/100\n",
      "51/51 [==============================] - 1s 27ms/step - loss: 1.8205 - accuracy: 0.3556 - val_loss: 1.7308 - val_accuracy: 0.3787\n",
      "Epoch 4/100\n",
      "51/51 [==============================] - 1s 26ms/step - loss: 1.7267 - accuracy: 0.3963 - val_loss: 1.6599 - val_accuracy: 0.4019\n",
      "Epoch 5/100\n",
      "51/51 [==============================] - 1s 27ms/step - loss: 1.6472 - accuracy: 0.4173 - val_loss: 1.5561 - val_accuracy: 0.4676\n",
      "Epoch 6/100\n",
      "51/51 [==============================] - 1s 26ms/step - loss: 1.5647 - accuracy: 0.4691 - val_loss: 1.4835 - val_accuracy: 0.5102\n",
      "Epoch 7/100\n",
      "51/51 [==============================] - 1s 28ms/step - loss: 1.5099 - accuracy: 0.4877 - val_loss: 1.4749 - val_accuracy: 0.5037\n",
      "Epoch 8/100\n",
      "51/51 [==============================] - 1s 28ms/step - loss: 1.4661 - accuracy: 0.5022 - val_loss: 1.3961 - val_accuracy: 0.5380\n",
      "Epoch 9/100\n",
      "51/51 [==============================] - 2s 29ms/step - loss: 1.3715 - accuracy: 0.5389 - val_loss: 1.3589 - val_accuracy: 0.5593\n",
      "Epoch 10/100\n",
      "51/51 [==============================] - 1s 29ms/step - loss: 1.2988 - accuracy: 0.5642 - val_loss: 1.3119 - val_accuracy: 0.5880\n",
      "Epoch 11/100\n",
      "51/51 [==============================] - 1s 26ms/step - loss: 1.2551 - accuracy: 0.5744 - val_loss: 1.2450 - val_accuracy: 0.6296\n",
      "Epoch 12/100\n",
      "51/51 [==============================] - 1s 26ms/step - loss: 1.2568 - accuracy: 0.5864 - val_loss: 1.2663 - val_accuracy: 0.6019\n",
      "Epoch 13/100\n",
      "51/51 [==============================] - 1s 27ms/step - loss: 1.1159 - accuracy: 0.6373 - val_loss: 1.2133 - val_accuracy: 0.6037\n",
      "Epoch 14/100\n",
      "51/51 [==============================] - 1s 26ms/step - loss: 1.0533 - accuracy: 0.6593 - val_loss: 1.1473 - val_accuracy: 0.6694\n",
      "Epoch 15/100\n",
      "51/51 [==============================] - 1s 27ms/step - loss: 1.0376 - accuracy: 0.6741 - val_loss: 1.0392 - val_accuracy: 0.6796\n",
      "Epoch 16/100\n",
      "51/51 [==============================] - 1s 27ms/step - loss: 0.9411 - accuracy: 0.7049 - val_loss: 0.9807 - val_accuracy: 0.7065\n",
      "Epoch 17/100\n",
      "51/51 [==============================] - 1s 28ms/step - loss: 0.8672 - accuracy: 0.7404 - val_loss: 0.9201 - val_accuracy: 0.7287\n",
      "Epoch 18/100\n",
      "51/51 [==============================] - 1s 28ms/step - loss: 0.8156 - accuracy: 0.7451 - val_loss: 0.8586 - val_accuracy: 0.7426\n",
      "Epoch 19/100\n",
      "51/51 [==============================] - 2s 31ms/step - loss: 0.7521 - accuracy: 0.7799 - val_loss: 0.7954 - val_accuracy: 0.7722\n",
      "Epoch 20/100\n",
      "51/51 [==============================] - 2s 32ms/step - loss: 0.7461 - accuracy: 0.7870 - val_loss: 0.9239 - val_accuracy: 0.7296\n",
      "Epoch 21/100\n",
      "51/51 [==============================] - 1s 29ms/step - loss: 0.7079 - accuracy: 0.7978 - val_loss: 0.8741 - val_accuracy: 0.7602\n",
      "Epoch 22/100\n",
      "51/51 [==============================] - 1s 28ms/step - loss: 0.7515 - accuracy: 0.7898 - val_loss: 0.7677 - val_accuracy: 0.7833\n",
      "Epoch 23/100\n",
      "51/51 [==============================] - 1s 26ms/step - loss: 0.6466 - accuracy: 0.8148 - val_loss: 0.7181 - val_accuracy: 0.8000\n",
      "Epoch 24/100\n",
      "51/51 [==============================] - 1s 26ms/step - loss: 0.5929 - accuracy: 0.8475 - val_loss: 0.6914 - val_accuracy: 0.8315\n",
      "Epoch 25/100\n",
      "51/51 [==============================] - 1s 28ms/step - loss: 0.5738 - accuracy: 0.8509 - val_loss: 0.7441 - val_accuracy: 0.8241\n",
      "Epoch 26/100\n",
      "51/51 [==============================] - 1s 28ms/step - loss: 0.5400 - accuracy: 0.8596 - val_loss: 0.6752 - val_accuracy: 0.8333\n",
      "Epoch 27/100\n",
      "51/51 [==============================] - 1s 27ms/step - loss: 0.5202 - accuracy: 0.8738 - val_loss: 0.6828 - val_accuracy: 0.8593\n",
      "Epoch 28/100\n",
      "51/51 [==============================] - 1s 27ms/step - loss: 0.5250 - accuracy: 0.8802 - val_loss: 0.9135 - val_accuracy: 0.8491\n",
      "Epoch 29/100\n",
      "51/51 [==============================] - 1s 24ms/step - loss: 0.5109 - accuracy: 0.8753 - val_loss: 0.6304 - val_accuracy: 0.8435\n",
      "Epoch 30/100\n",
      "51/51 [==============================] - 1s 29ms/step - loss: 0.4673 - accuracy: 0.8917 - val_loss: 0.5773 - val_accuracy: 0.8731\n",
      "Epoch 31/100\n",
      "51/51 [==============================] - 2s 30ms/step - loss: 0.4355 - accuracy: 0.9062 - val_loss: 0.6047 - val_accuracy: 0.8704\n",
      "Epoch 32/100\n",
      "51/51 [==============================] - 2s 32ms/step - loss: 0.4066 - accuracy: 0.9170 - val_loss: 0.5869 - val_accuracy: 0.8648\n",
      "Epoch 33/100\n",
      "51/51 [==============================] - 1s 27ms/step - loss: 0.4179 - accuracy: 0.9130 - val_loss: 0.5652 - val_accuracy: 0.8611\n",
      "Epoch 34/100\n",
      "51/51 [==============================] - 1s 27ms/step - loss: 0.3941 - accuracy: 0.9244 - val_loss: 0.7977 - val_accuracy: 0.8806\n",
      "Epoch 35/100\n",
      "51/51 [==============================] - 1s 28ms/step - loss: 0.4315 - accuracy: 0.9086 - val_loss: 0.5676 - val_accuracy: 0.8769\n",
      "Epoch 36/100\n",
      "51/51 [==============================] - 1s 27ms/step - loss: 0.4300 - accuracy: 0.9108 - val_loss: 0.6324 - val_accuracy: 0.8657\n",
      "Epoch 37/100\n",
      "51/51 [==============================] - 1s 29ms/step - loss: 0.4067 - accuracy: 0.9222 - val_loss: 0.5663 - val_accuracy: 0.8926\n",
      "Epoch 38/100\n",
      "51/51 [==============================] - 1s 26ms/step - loss: 0.3767 - accuracy: 0.9225 - val_loss: 0.5241 - val_accuracy: 0.8935\n",
      "Epoch 39/100\n",
      "51/51 [==============================] - 1s 28ms/step - loss: 0.3490 - accuracy: 0.9426 - val_loss: 0.5699 - val_accuracy: 0.8870\n",
      "Epoch 40/100\n",
      "51/51 [==============================] - 1s 27ms/step - loss: 0.3467 - accuracy: 0.9426 - val_loss: 0.5550 - val_accuracy: 0.8898\n",
      "Epoch 41/100\n",
      "51/51 [==============================] - 2s 30ms/step - loss: 0.3527 - accuracy: 0.9349 - val_loss: 0.5798 - val_accuracy: 0.8806\n",
      "Epoch 42/100\n",
      "51/51 [==============================] - 2s 32ms/step - loss: 0.3498 - accuracy: 0.9373 - val_loss: 0.5674 - val_accuracy: 0.8880\n",
      "Epoch 43/100\n",
      "51/51 [==============================] - 2s 30ms/step - loss: 0.3299 - accuracy: 0.9485 - val_loss: 0.5964 - val_accuracy: 0.8843\n",
      "Epoch 44/100\n",
      "51/51 [==============================] - 2s 29ms/step - loss: 0.3187 - accuracy: 0.9537 - val_loss: 0.5990 - val_accuracy: 0.8889\n",
      "Epoch 45/100\n",
      "51/51 [==============================] - 1s 26ms/step - loss: 0.3268 - accuracy: 0.9509 - val_loss: 0.5973 - val_accuracy: 0.8843\n",
      "Epoch 46/100\n",
      "51/51 [==============================] - 1s 26ms/step - loss: 0.2847 - accuracy: 0.9623 - val_loss: 0.5402 - val_accuracy: 0.8935\n",
      "Epoch 47/100\n",
      "51/51 [==============================] - 1s 27ms/step - loss: 0.2960 - accuracy: 0.9586 - val_loss: 0.5693 - val_accuracy: 0.8796\n",
      "Epoch 48/100\n",
      "51/51 [==============================] - 1s 28ms/step - loss: 0.3080 - accuracy: 0.9534 - val_loss: 0.5727 - val_accuracy: 0.8852\n",
      "Epoch 49/100\n",
      "51/51 [==============================] - 1s 26ms/step - loss: 0.3676 - accuracy: 0.9423 - val_loss: 0.5215 - val_accuracy: 0.8981\n",
      "Epoch 50/100\n",
      "51/51 [==============================] - 1s 26ms/step - loss: 0.3450 - accuracy: 0.9410 - val_loss: 0.6928 - val_accuracy: 0.8796\n",
      "Epoch 51/100\n",
      "51/51 [==============================] - 1s 29ms/step - loss: 0.3192 - accuracy: 0.9497 - val_loss: 0.7374 - val_accuracy: 0.8981\n",
      "Epoch 52/100\n",
      "51/51 [==============================] - 1s 29ms/step - loss: 0.3169 - accuracy: 0.9534 - val_loss: 0.8153 - val_accuracy: 0.8861\n",
      "Epoch 53/100\n",
      "51/51 [==============================] - 2s 31ms/step - loss: 0.2885 - accuracy: 0.9623 - val_loss: 0.7497 - val_accuracy: 0.9000\n",
      "Epoch 54/100\n",
      "51/51 [==============================] - 2s 31ms/step - loss: 0.2754 - accuracy: 0.9670 - val_loss: 0.7106 - val_accuracy: 0.9000\n",
      "Epoch 55/100\n",
      "51/51 [==============================] - 1s 28ms/step - loss: 0.2723 - accuracy: 0.9633 - val_loss: 0.8322 - val_accuracy: 0.8898\n",
      "Epoch 56/100\n",
      "51/51 [==============================] - 1s 26ms/step - loss: 0.2854 - accuracy: 0.9648 - val_loss: 0.7173 - val_accuracy: 0.8935\n",
      "Epoch 57/100\n",
      "51/51 [==============================] - 1s 26ms/step - loss: 0.2894 - accuracy: 0.9623 - val_loss: 0.5678 - val_accuracy: 0.8824\n",
      "Epoch 58/100\n",
      "51/51 [==============================] - 1s 27ms/step - loss: 0.3073 - accuracy: 0.9559 - val_loss: 0.5535 - val_accuracy: 0.9009\n",
      "Epoch 59/100\n",
      "51/51 [==============================] - 1s 25ms/step - loss: 0.2875 - accuracy: 0.9630 - val_loss: 0.5677 - val_accuracy: 0.8972\n",
      "Epoch 60/100\n",
      "51/51 [==============================] - 1s 25ms/step - loss: 0.2567 - accuracy: 0.9762 - val_loss: 0.5901 - val_accuracy: 0.8963\n",
      "Epoch 61/100\n",
      "51/51 [==============================] - 1s 25ms/step - loss: 0.2491 - accuracy: 0.9778 - val_loss: 0.5941 - val_accuracy: 0.9083\n",
      "Epoch 62/100\n",
      "51/51 [==============================] - 1s 29ms/step - loss: 0.2583 - accuracy: 0.9744 - val_loss: 0.6159 - val_accuracy: 0.8907\n",
      "Epoch 63/100\n",
      "51/51 [==============================] - 1s 28ms/step - loss: 0.2529 - accuracy: 0.9738 - val_loss: 0.6125 - val_accuracy: 0.8926\n",
      "Epoch 64/100\n",
      "51/51 [==============================] - 2s 32ms/step - loss: 0.2508 - accuracy: 0.9756 - val_loss: 0.6250 - val_accuracy: 0.8954\n",
      "Epoch 65/100\n",
      "51/51 [==============================] - 2s 30ms/step - loss: 0.2722 - accuracy: 0.9664 - val_loss: 0.5791 - val_accuracy: 0.9074\n",
      "Epoch 66/100\n",
      "51/51 [==============================] - 2s 30ms/step - loss: 0.2527 - accuracy: 0.9725 - val_loss: 0.6233 - val_accuracy: 0.9065\n",
      "Epoch 67/100\n",
      "51/51 [==============================] - 1s 26ms/step - loss: 0.2487 - accuracy: 0.9762 - val_loss: 0.6036 - val_accuracy: 0.9093\n",
      "Epoch 68/100\n",
      "51/51 [==============================] - 1s 27ms/step - loss: 0.2743 - accuracy: 0.9627 - val_loss: 0.5447 - val_accuracy: 0.8972\n",
      "Epoch 69/100\n",
      "51/51 [==============================] - 2s 30ms/step - loss: 0.2634 - accuracy: 0.9713 - val_loss: 0.5575 - val_accuracy: 0.8981\n",
      "Epoch 70/100\n",
      "51/51 [==============================] - 2s 32ms/step - loss: 0.2591 - accuracy: 0.9738 - val_loss: 0.6525 - val_accuracy: 0.8824\n",
      "Epoch 71/100\n",
      "51/51 [==============================] - 2s 31ms/step - loss: 0.2839 - accuracy: 0.9639 - val_loss: 0.6636 - val_accuracy: 0.8907\n",
      "Epoch 72/100\n",
      "51/51 [==============================] - 1s 28ms/step - loss: 0.2845 - accuracy: 0.9620 - val_loss: 0.6714 - val_accuracy: 0.8963\n",
      "Epoch 73/100\n",
      "51/51 [==============================] - 1s 29ms/step - loss: 0.2496 - accuracy: 0.9793 - val_loss: 0.6565 - val_accuracy: 0.8944\n",
      "Epoch 74/100\n",
      "51/51 [==============================] - 1s 30ms/step - loss: 0.2463 - accuracy: 0.9784 - val_loss: 0.6360 - val_accuracy: 0.9000\n",
      "Epoch 75/100\n",
      "51/51 [==============================] - 2s 30ms/step - loss: 0.2582 - accuracy: 0.9753 - val_loss: 0.6575 - val_accuracy: 0.9000\n",
      "Epoch 76/100\n",
      "51/51 [==============================] - 2s 30ms/step - loss: 0.2490 - accuracy: 0.9775 - val_loss: 0.6233 - val_accuracy: 0.8981\n",
      "Epoch 77/100\n",
      "51/51 [==============================] - 1s 28ms/step - loss: 0.2342 - accuracy: 0.9836 - val_loss: 0.6771 - val_accuracy: 0.8944\n",
      "Epoch 78/100\n",
      "51/51 [==============================] - 1s 26ms/step - loss: 0.2707 - accuracy: 0.9667 - val_loss: 0.7347 - val_accuracy: 0.8852\n",
      "Epoch 79/100\n",
      "51/51 [==============================] - 1s 25ms/step - loss: 0.2599 - accuracy: 0.9762 - val_loss: 0.7407 - val_accuracy: 0.9083\n",
      "Epoch 80/100\n",
      "51/51 [==============================] - 1s 27ms/step - loss: 0.2880 - accuracy: 0.9713 - val_loss: 0.9790 - val_accuracy: 0.8824\n",
      "Epoch 81/100\n",
      "51/51 [==============================] - 1s 25ms/step - loss: 0.3765 - accuracy: 0.9293 - val_loss: 0.7160 - val_accuracy: 0.8935\n",
      "Epoch 82/100\n",
      "51/51 [==============================] - 1s 24ms/step - loss: 0.3398 - accuracy: 0.9463 - val_loss: 0.6661 - val_accuracy: 0.8898\n",
      "Epoch 83/100\n",
      "51/51 [==============================] - 1s 26ms/step - loss: 0.2830 - accuracy: 0.9636 - val_loss: 0.7072 - val_accuracy: 0.8917\n",
      "Epoch 84/100\n",
      "51/51 [==============================] - 1s 27ms/step - loss: 0.2888 - accuracy: 0.9648 - val_loss: 0.6178 - val_accuracy: 0.8944\n",
      "Epoch 85/100\n",
      "51/51 [==============================] - 1s 27ms/step - loss: 0.2846 - accuracy: 0.9667 - val_loss: 0.6939 - val_accuracy: 0.9028\n",
      "Epoch 86/100\n",
      "51/51 [==============================] - 1s 29ms/step - loss: 0.2678 - accuracy: 0.9747 - val_loss: 0.6373 - val_accuracy: 0.9046\n",
      "Epoch 87/100\n",
      "51/51 [==============================] - 1s 29ms/step - loss: 0.2433 - accuracy: 0.9781 - val_loss: 0.6641 - val_accuracy: 0.9028\n",
      "Epoch 88/100\n",
      "51/51 [==============================] - 1s 28ms/step - loss: 0.2463 - accuracy: 0.9809 - val_loss: 0.6366 - val_accuracy: 0.9028\n",
      "Epoch 89/100\n",
      "51/51 [==============================] - 1s 26ms/step - loss: 0.2392 - accuracy: 0.9793 - val_loss: 0.6513 - val_accuracy: 0.9037\n",
      "Epoch 90/100\n",
      "51/51 [==============================] - 1s 26ms/step - loss: 0.2238 - accuracy: 0.9892 - val_loss: 0.6250 - val_accuracy: 0.8972\n",
      "Epoch 91/100\n",
      "51/51 [==============================] - 1s 25ms/step - loss: 0.2305 - accuracy: 0.9846 - val_loss: 0.6546 - val_accuracy: 0.8907\n",
      "Epoch 92/100\n",
      "51/51 [==============================] - 1s 24ms/step - loss: 0.2393 - accuracy: 0.9799 - val_loss: 0.5756 - val_accuracy: 0.8972\n",
      "Epoch 93/100\n",
      "51/51 [==============================] - 1s 26ms/step - loss: 0.2442 - accuracy: 0.9806 - val_loss: 0.7168 - val_accuracy: 0.9019\n",
      "Epoch 94/100\n",
      "51/51 [==============================] - 1s 25ms/step - loss: 0.2369 - accuracy: 0.9815 - val_loss: 0.6919 - val_accuracy: 0.8954\n",
      "Epoch 95/100\n",
      "51/51 [==============================] - 1s 25ms/step - loss: 0.2312 - accuracy: 0.9843 - val_loss: 0.6481 - val_accuracy: 0.9046\n",
      "Epoch 96/100\n",
      "51/51 [==============================] - 1s 28ms/step - loss: 0.2349 - accuracy: 0.9824 - val_loss: 0.6816 - val_accuracy: 0.9046\n",
      "Epoch 97/100\n",
      "51/51 [==============================] - 2s 32ms/step - loss: 0.2441 - accuracy: 0.9747 - val_loss: 0.6437 - val_accuracy: 0.8981\n",
      "Epoch 98/100\n",
      "51/51 [==============================] - 2s 34ms/step - loss: 0.2395 - accuracy: 0.9821 - val_loss: 0.6856 - val_accuracy: 0.8935\n",
      "Epoch 99/100\n",
      "51/51 [==============================] - 2s 32ms/step - loss: 0.2342 - accuracy: 0.9821 - val_loss: 0.6713 - val_accuracy: 0.8972\n",
      "Epoch 100/100\n",
      "51/51 [==============================] - 2s 34ms/step - loss: 0.2472 - accuracy: 0.9796 - val_loss: 0.6223 - val_accuracy: 0.9139\n"
     ]
    }
   ],
   "source": [
    "# Train the model\n",
    "history = model.fit(XProcessed, y_train, epochs=100, validation_data=(XTestProcessed, y_test), batch_size=64)\n"
   ]
  },
  {
   "cell_type": "markdown",
   "metadata": {},
   "source": [
    "# Evaluate the model"
   ]
  },
  {
   "cell_type": "code",
   "execution_count": 12,
   "metadata": {},
   "outputs": [
    {
     "name": "stdout",
     "output_type": "stream",
     "text": [
      "34/34 [==============================] - 1s 22ms/step - loss: 0.6223 - accuracy: 0.9139\n",
      "Test accuracy: 0.914\n"
     ]
    }
   ],
   "source": [
    "# Evaluate the model\n",
    "loss, accuracy = model.evaluate(XTestProcessed, y_test)\n",
    "print(f'Test accuracy: {accuracy:.3f}')"
   ]
  },
  {
   "cell_type": "markdown",
   "metadata": {},
   "source": [
    "# Plotting Training and Validation Accuracy and Loss"
   ]
  },
  {
   "cell_type": "code",
   "execution_count": 13,
   "metadata": {},
   "outputs": [
    {
     "data": {
      "image/png": "[encoded data removed]",
      "text/plain": [
       "<Figure size 1000x600 with 1 Axes>"
      ]
     },
     "metadata": {},
     "output_type": "display_data"
    },
    {
     "data": {
      "image/png": "[encoded data removed]",
      "text/plain": [
       "<Figure size 1000x600 with 1 Axes>"
      ]
     },
     "metadata": {},
     "output_type": "display_data"
    }
   ],
   "source": [
    "# Plot training and validation accuracy\n",
    "plt.figure(figsize=(10, 6))\n",
    "plt.plot(history.history['accuracy'], label='Training Accuracy')\n",
    "plt.plot(history.history['val_accuracy'], label='Validation Accuracy')\n",
    "plt.title('Training and Validation Accuracy')\n",
    "plt.xlabel('Epochs')\n",
    "plt.ylabel('Accuracy')\n",
    "plt.legend()\n",
    "plt.show()\n",
    "\n",
    "# Plot training and validation loss\n",
    "plt.figure(figsize=(10, 6))\n",
    "plt.plot(history.history['loss'], label='Training Loss')\n",
    "plt.plot(history.history['val_loss'], label='Validation Loss')\n",
    "plt.title('Training and Validation Loss')\n",
    "plt.xlabel('Epochs')\n",
    "plt.ylabel('Loss')\n",
    "plt.legend()\n",
    "plt.show()"
   ]
  },
  {
   "cell_type": "markdown",
   "metadata": {},
   "source": [
    "# Evaluating Model Performance on Test Set"
   ]
  },
  {
   "cell_type": "code",
   "execution_count": 14,
   "metadata": {},
   "outputs": [
    {
     "name": "stdout",
     "output_type": "stream",
     "text": [
      "34/34 [==============================] - 1s 13ms/step\n",
      "              precision    recall  f1-score   support\n",
      "\n",
      "           0       0.94      0.96      0.95       140\n",
      "           1       0.96      0.92      0.94       145\n",
      "           2       0.90      0.89      0.89       149\n",
      "           3       0.94      0.90      0.92       147\n",
      "           4       0.91      0.97      0.94       159\n",
      "           5       0.87      0.87      0.87        60\n",
      "           6       0.91      0.90      0.90       132\n",
      "           7       0.87      0.88      0.87       148\n",
      "\n",
      "    accuracy                           0.91      1080\n",
      "   macro avg       0.91      0.91      0.91      1080\n",
      "weighted avg       0.91      0.91      0.91      1080\n",
      "\n"
     ]
    }
   ],
   "source": [
    "# Predict on test set\n",
    "y_pred = model.predict(XTestProcessed)\n",
    "y_pred_class = np.argmax(y_pred, axis=1)\n",
    "\n",
    "# Print classification report\n",
    "print(classification_report(y_test, y_pred_class))"
   ]
  },
  {
   "cell_type": "markdown",
   "metadata": {},
   "source": [
    "# Saving the Model, Architecture, and Weights"
   ]
  },
  {
   "cell_type": "code",
   "execution_count": 15,
   "metadata": {},
   "outputs": [],
   "source": [
    "# Save the entire model to a single HDF5 file (already in your code)\n",
    "model.save(\"SER.h5\")\n",
    "\n",
    "# Save the model architecture (JSON format)\n",
    "model_json = model.to_json()\n",
    "with open(\"SER.json\", 'w') as json_file:\n",
    "    json_file.write(model_json)\n",
    "\n",
    "# Save the model weights separately (HDF5 format)\n",
    "model.save_weights(\"SER.h5\")\n"
   ]
  },
  {
   "cell_type": "markdown",
   "metadata": {},
   "source": [
    "# Model Loading and Prediction"
   ]
  },
  {
   "cell_type": "code",
   "execution_count": 16,
   "metadata": {},
   "outputs": [
    {
     "name": "stdout",
     "output_type": "stream",
     "text": [
      "1/1 [==============================] - 0s 268ms/step\n",
      "Predicted Emotion: surprised\n"
     ]
    }
   ],
   "source": [
    "from tensorflow.keras.models import model_from_json\n",
    "\n",
    "# Load the model architecture from the JSON file\n",
    "with open(\"SER.json\", 'r') as json_file:\n",
    "    model_json = json_file.read()\n",
    "\n",
    "# Create the model from the JSON architecture\n",
    "loaded_model = model_from_json(model_json)\n",
    "\n",
    "# Load the model weights from the HDF5 file\n",
    "loaded_model.load_weights(\"SER.h5\")\n",
    "\n",
    "# Now the model is ready for prediction\n",
    "# Function to extract features from an audio file\n",
    "def extract_feature_from_file(file_path, sr, mfcc, chroma, mel):\n",
    "    data, sr = librosa.load(file_path)\n",
    "    feature = extract_feature(data, sr, mfcc=True, chroma=True, mel=True)\n",
    "    return feature\n",
    "\n",
    "# Load an audio file and extract features\n",
    "test_file_path = \"C:\\\\Users\\\\muham\\\\Downloads\\\\Muarij\\SER\\\\RAVDESS Dataset\\\\archive\\\\audio_speech_actors_01-24\\\\Actor_16\\\\03-01-08-01-02-02-16.wav\"\n",
    "test_feature = extract_feature_from_file(test_file_path, 22050, mfcc=True, chroma=True, mel=True)\n",
    "\n",
    "# Prepare the feature for prediction\n",
    "test_feature = np.expand_dims(test_feature, axis=0)\n",
    "test_feature = np.expand_dims(test_feature, axis=2)\n",
    "\n",
    "# Make a prediction\n",
    "prediction = loaded_model.predict(test_feature)\n",
    "\n",
    "# Convert the prediction to a class label\n",
    "predicted_class = np.argmax(prediction, axis=1)[0]\n",
    "\n",
    "# Map the class label to an emotion\n",
    "emotion = list(le_name_mapping.keys())[list(le_name_mapping.values()).index(predicted_class)]\n",
    "\n",
    "print(f\"Predicted Emotion: {emotion}\")\n"
   ]
  }
 ],
 "metadata": {
  "kernelspec": {
   "display_name": "Python 3 (ipykernel)",
   "language": "python",
   "name": "python3"
  },
  "language_info": {
   "codemirror_mode": {
    "name": "ipython",
    "version": 3
   },
   "file_extension": ".py",
   "mimetype": "text/x-python",
   "name": "python",
   "nbconvert_exporter": "python",
   "pygments_lexer": "ipython3",
   "version": "3.9.21"
  }
 },
 "nbformat": 4,
 "nbformat_minor": 4
}
